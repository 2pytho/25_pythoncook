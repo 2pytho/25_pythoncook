{
 "cells": [
  {
   "cell_type": "markdown",
   "metadata": {},
   "source": [
    "## python cook and python develop"
   ]
  },
  {
   "cell_type": "code",
   "execution_count": 2,
   "metadata": {},
   "outputs": [],
   "source": [
    "import time\n"
   ]
  },
  {
   "cell_type": "code",
   "execution_count": 5,
   "metadata": {},
   "outputs": [
    {
     "name": "stdout",
     "output_type": "stream",
     "text": [
      "hello\n"
     ]
    }
   ],
   "source": [
    "def fun():\n",
    "    print(\"hello\")\n",
    "fun()"
   ]
  },
  {
   "cell_type": "code",
   "execution_count": 6,
   "metadata": {},
   "outputs": [
    {
     "name": "stdout",
     "output_type": "stream",
     "text": [
      "__main__\n"
     ]
    }
   ],
   "source": [
    "if __name__ == '__main__':\n",
    "    print(__name__)"
   ]
  },
  {
   "cell_type": "code",
   "execution_count": 8,
   "metadata": {},
   "outputs": [
    {
     "name": "stdout",
     "output_type": "stream",
     "text": [
      "False\n"
     ]
    }
   ],
   "source": [
    "x = False\n",
    "if x:\n",
    "    print(\"True\")\n",
    "if not x:\n",
    "    print(\"False\")"
   ]
  },
  {
   "cell_type": "code",
   "execution_count": 10,
   "metadata": {},
   "outputs": [
    {
     "name": "stdout",
     "output_type": "stream",
     "text": [
      "I love fruits!\n"
     ]
    }
   ],
   "source": [
    "name = 'youjie'\n",
    "fruits = ['apple', 'orange', 'grape']\n",
    "owners = {'1001': 'you', '1002': 'jie'}\n",
    "if name and fruits and owners:\n",
    "    print('I love fruits!')"
   ]
  },
  {
   "cell_type": "code",
   "execution_count": 14,
   "metadata": {
    "scrolled": false
   },
   "outputs": [
    {
     "name": "stdout",
     "output_type": "stream",
     "text": [
      "0\n",
      "1\n",
      "2\n",
      "3\n",
      "4\n",
      "5\n",
      "6\n",
      "7\n",
      "8\n",
      "9\n",
      "in\n"
     ]
    }
   ],
   "source": [
    "'''\n",
    "if x in items: # 包含\n",
    "for x in items: # 迭代\n",
    "'''\n",
    "\n",
    "for i in range(10):\n",
    "    print(i)\n",
    "L = [1,2,3]\n",
    "x = 1\n",
    "if x in L:\n",
    "    print(\"in\")"
   ]
  },
  {
   "cell_type": "code",
   "execution_count": 15,
   "metadata": {},
   "outputs": [
    {
     "name": "stdout",
     "output_type": "stream",
     "text": [
      "a=3,b=2\n",
      "a=2,b=3\n"
     ]
    }
   ],
   "source": [
    "a = 3\n",
    "b = 2\n",
    "print(\"a=%d,b=%d\"%(a,b))\n",
    "a, b = b, a\n",
    "print(\"a=%d,b=%d\"%(a,b))\n"
   ]
  },
  {
   "cell_type": "code",
   "execution_count": 16,
   "metadata": {},
   "outputs": [
    {
     "name": "stdout",
     "output_type": "stream",
     "text": [
      "jackfrued\n"
     ]
    }
   ],
   "source": [
    "chars = ['j', 'a', 'c', 'k', 'f', 'r', 'u', 'e', 'd']\n",
    "name = ''.join(chars)\n",
    "print(name)  # jackfrued"
   ]
  },
  {
   "cell_type": "code",
   "execution_count": 20,
   "metadata": {},
   "outputs": [
    {
     "name": "stdout",
     "output_type": "stream",
     "text": [
      "None\n"
     ]
    }
   ],
   "source": [
    "#d = {'x': '5'}\n",
    "d = {'y': '5'}\n",
    "try:\n",
    "    value = int(d['x'])\n",
    "    print(value)\n",
    "except (KeyError, TypeError, ValueError):\n",
    "    value = None\n",
    "    print(\"None\")"
   ]
  },
  {
   "cell_type": "code",
   "execution_count": 21,
   "metadata": {},
   "outputs": [
    {
     "name": "stdout",
     "output_type": "stream",
     "text": [
      "0 : orange\n",
      "1 : grape\n",
      "2 : pitaya\n",
      "3 : blueberry\n"
     ]
    }
   ],
   "source": [
    "fruits = ['orange', 'grape', 'pitaya', 'blueberry']\n",
    "for index, fruit in enumerate(fruits):\n",
    "    print(index, ':', fruit)"
   ]
  },
  {
   "cell_type": "code",
   "execution_count": 22,
   "metadata": {},
   "outputs": [
    {
     "name": "stdout",
     "output_type": "stream",
     "text": [
      "[60, 45, 33]\n"
     ]
    }
   ],
   "source": [
    "data = [7, 20, 3, 15, 11]\n",
    "result = [num * 3 for num in data if num > 10]\n",
    "print(result)  # [60, 45, 33]"
   ]
  },
  {
   "cell_type": "code",
   "execution_count": 23,
   "metadata": {
    "scrolled": true
   },
   "outputs": [
    {
     "name": "stdout",
     "output_type": "stream",
     "text": [
      "{'1001': '骆昊', '1002': '王大锤', '1003': '白元芳'}\n"
     ]
    }
   ],
   "source": [
    "keys = ['1001', '1002', '1003']\n",
    "values = ['骆昊', '王大锤', '白元芳']\n",
    "d = dict(zip(keys, values))\n",
    "print(d)"
   ]
  },
  {
   "cell_type": "code",
   "execution_count": null,
   "metadata": {},
   "outputs": [],
   "source": []
  }
 ],
 "metadata": {
  "kernelspec": {
   "display_name": "Python (tensorflow)",
   "language": "python",
   "name": "tensorflow"
  },
  "language_info": {
   "codemirror_mode": {
    "name": "ipython",
    "version": 3
   },
   "file_extension": ".py",
   "mimetype": "text/x-python",
   "name": "python",
   "nbconvert_exporter": "python",
   "pygments_lexer": "ipython3",
   "version": "3.6.8"
  }
 },
 "nbformat": 4,
 "nbformat_minor": 2
}
